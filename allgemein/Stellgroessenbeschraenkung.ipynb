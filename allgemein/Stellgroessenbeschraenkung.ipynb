{
 "cells": [
  {
   "cell_type": "code",
   "execution_count": null,
   "id": "0",
   "metadata": {
    "jupyter": {
     "source_hidden": true
    }
   },
   "outputs": [],
   "source": [
    "%matplotlib widget\n",
    "\n",
    "import ipywidgets as widgets\n",
    "from ipywidgets import HBox, VBox, Box, Layout, Output, Label\n",
    "import numpy as np\n",
    "import sympy as sp\n",
    "import matplotlib.pyplot as plt\n",
    "from scipy import signal\n",
    "from scipy.integrate import solve_ivp\n",
    "from IPython.display import display, Latex, Markdown, Image, Math"
   ]
  },
  {
   "cell_type": "code",
   "execution_count": null,
   "id": "1",
   "metadata": {
    "jupyter": {
     "source_hidden": true
    }
   },
   "outputs": [],
   "source": [
    "def make_box_layout():\n",
    "     return widgets.Layout(\n",
    "        border='solid 1px black',\n",
    "        margin='0px 5px 5px 0px',\n",
    "        padding='2px 2px 2px 2px'\n",
    "     )"
   ]
  },
  {
   "cell_type": "markdown",
   "id": "2",
   "metadata": {},
   "source": [
    "# Stellgrößenbeschränkung"
   ]
  },
  {
   "cell_type": "code",
   "execution_count": null,
   "id": "3",
   "metadata": {
    "jupyter": {
     "source_hidden": true
    }
   },
   "outputs": [],
   "source": [
    "imag = Image(\"../images/saturation.png\", width=650)\n",
    "\n",
    "outL = Output()\n",
    "outR = Output()\n",
    "\n",
    "with outL:\n",
    "    display(imag)\n",
    "with outR:\n",
    "    display(Markdown(\"\"\"\n",
    "- lineares System erster Ordnung mit Störung $\\\\Delta u$ im Eingang\n",
    "  \\\\begin{align*}\n",
    "      \\\\dot{y}(t) & = a y(t) + b (u(t) + \\\\Delta u)\n",
    "  \\\\end{align*}\n",
    "- Steuerung mit $y_{\\\\mathrm{ref}} = $konst.\n",
    "  \\\\begin{align*}\n",
    "      u_{\\\\mathrm{ref}} & = \\\\frac{a}{b} y_{\\\\mathrm{ref}}\n",
    "  \\\\end{align*}\n",
    "- Begrenzung des Eingangs\n",
    "  \\\\begin{align*}\n",
    "      \\\\underline{u} & \\\\le u(t) \\\\le \\\\overline{u}\n",
    "  \\\\end{align*}\n",
    "- Regler: \n",
    "    - Verstärkungen: $K_{\\\\mathrm{P}} = l + k$, $K_{\\\\mathrm{I}} = l(b\\\\ k - a)$\n",
    "    - Standard-PI-Regler mit und ohne Integratorstoppung\n",
    "      \\\\begin{align*}\n",
    "          u(t) & = u_{\\\\mathrm{ref}} - K_{\\\\mathrm{P}} \\\\tilde{y}(t) - K_{\\\\mathrm{I}} \\\\int_{t_0}^{t} \\\\tilde{y}(\\\\tau) \\\\mathrm{d} \\\\tau\n",
    "      \\\\end{align*}\n",
    "    - Beobachterformulierung:\n",
    "      \\\\begin{align*}\n",
    "          u(t) & = u_{\\\\mathrm{ref}} - K_{\\\\mathrm{P}} \\\\tilde{y}(t) - \\\\tilde{z}(t) \\\\\\\\\n",
    "          \\\\dot{\\\\tilde{z}}(t) & = - \\\\frac{K_{\\\\mathrm{I}}}{K_{\\\\mathrm{P}}} (y(t) - y_{\\\\mathrm{ref}})\n",
    "      \\\\end{align*}\n",
    "    - Beobachterformulierung ohne Umrechnung\n",
    "      \\\\begin{align*}\n",
    "          u(t) & = u_{\\\\mathrm{ref}} - K_{\\\\mathrm{P}} \\\\tilde{y}(t) - \\\\tilde{z}(t) \\\\\\\\\n",
    "          \\\\dot{\\\\tilde{z}}(t) & = - l b z(t) - l (l b + a) (y - y_{\\\\mathrm{ref}}) - l b (u(t) - u_{\\\\mathrm{ref}})\n",
    "      \\\\end{align*}\n",
    "\"\"\"))\n",
    "cols = HBox([outL, outR], layout=Layout(display='flex', flex_flow='row', justify_content='space-around', align_items='center'))\n",
    "display(cols)"
   ]
  },
  {
   "cell_type": "markdown",
   "id": "4",
   "metadata": {},
   "source": [
    "**Definition Parameter**"
   ]
  },
  {
   "cell_type": "code",
   "execution_count": null,
   "id": "5",
   "metadata": {
    "jupyter": {
     "source_hidden": true
    }
   },
   "outputs": [],
   "source": [
    "tSim = np.linspace(0, 5, 5001)"
   ]
  },
  {
   "cell_type": "code",
   "execution_count": null,
   "id": "6",
   "metadata": {
    "jupyter": {
     "source_hidden": true
    }
   },
   "outputs": [],
   "source": [
    "output = widgets.Output()\n",
    "\n",
    "with output:\n",
    "    fig, (ax1, ax2) = plt.subplots(2, 1, figsize=(10, 6), sharex=True, gridspec_kw={'height_ratios': [1, 1]})\n",
    "\n",
    "plt.subplots_adjust(wspace=0.2, hspace=0.07)\n",
    "fig.canvas.toolbar_visible = False\n",
    "fig.canvas.header_visible = False\n",
    "fig.canvas.footer_visible = False\n",
    "fig.subplots_adjust(bottom=0.1, top=0.93, left=0.125, right=0.9)\n",
    "\n",
    "ax1.set_xlim([0, tSim[-1]])\n",
    "ax2.set_xlim([0, tSim[-1]])\n",
    "ax1.set_ylim([-0.01, 0.40]) \n",
    "ax2.set_ylim([-0.25, 0.25]) \n",
    "ax1.grid()\n",
    "ax2.grid()\n",
    "ax1.set_ylabel(r\"$y$\")\n",
    "ax2.set_ylabel(r\"$z$\")\n",
    "ax2.set_xlabel(r\"$t$ in s\")\n",
    "\n",
    "yWoSys, = ax1.plot([], [], 'C0', label=\"PI-Regler ohne AW\")\n",
    "yWiSys, = ax1.plot([], [], 'C1--', label=\"PI-Regler mit AW\")\n",
    "yObsSys, = ax1.plot([], [], 'C2-.', label=\"red. Beobachter\")\n",
    "yObsAdaptSys, = ax1.plot([], [], 'C3:', label=\"adapt. red. Beobachter\")\n",
    "iWoSys, = ax2.plot([], [], 'C0')\n",
    "iWiSys, = ax2.plot([], [], 'C1--')\n",
    "iObsSys, = ax2.plot([], [], 'C2-.')\n",
    "iObsAdaptSys, = ax2.plot([], [], 'C3:')\n",
    "\n",
    "handlesAx, labelsAx = ax1.get_legend_handles_labels()\n",
    "\n",
    "fig.legend([handle for i, handle in enumerate(handlesAx)],\n",
    "           [label for i, label in enumerate(labelsAx)],\n",
    "           bbox_to_anchor=(0.125, 0.94, 0.7735, .15), loc=3,\n",
    "           ncol=4, mode=\"expand\", borderaxespad=0., framealpha=0.5)\n",
    "\n",
    "slidera = widgets.FloatSlider(value=-1,\n",
    "                               min=-10,\n",
    "                               max=-1,\n",
    "                               step=0.5,\n",
    "                               description=r'$a$')\n",
    "sliderb = widgets.FloatSlider(value=1,\n",
    "                               min=1,\n",
    "                               max=10,\n",
    "                               step=0.5,\n",
    "                               description=r'$b$')\n",
    "sliderk = widgets.FloatSlider(value=50,\n",
    "                               min=10,\n",
    "                               max=100,\n",
    "                               step=1,\n",
    "                               description=r'$k$')\n",
    "sliderl = widgets.FloatSlider(value=25,\n",
    "                               min=10,\n",
    "                               max=100,\n",
    "                               step=1,\n",
    "                               description=r'$l$')\n",
    "sliderdu = widgets.FloatSlider(value=1,\n",
    "                               min=0,\n",
    "                               max=5,\n",
    "                               step=1,\n",
    "                               description=r'$\\Delta u$')\n",
    "slideryr = widgets.FloatSlider(value=1,\n",
    "                               min=0,\n",
    "                               max=5,\n",
    "                               step=1,\n",
    "                               description=r'$y_{\\mathrm{ref}}$')\n",
    "sliderumax = widgets.FloatSlider(value=2,\n",
    "                                 min=0,\n",
    "                                 max=5,\n",
    "                                 step=1,\n",
    "                                 description=r'$u_{\\mathrm{max}}$')\n",
    "\n",
    "def sysCtrl(t, x, a, b, yref, uref, du, k, l, umax, method):\n",
    "    y = x[0]\n",
    "    z = x[1]\n",
    "    dx = np.zeros(2)\n",
    "\n",
    "    Kp = l + k\n",
    "    Ki = l * ( b * k - a)\n",
    "    \n",
    "    if method == 0:\n",
    "        u = - Ki * z - Kp * (y - yref)\n",
    "        dx[1] = y - yref\n",
    "    elif method == 1:\n",
    "        u = -Ki * z - Kp * (y - yref)\n",
    "        dx[1] = y - yref\n",
    "        if abs(u) >= umax:\n",
    "            dx[1] = 0\n",
    "    elif method == 2:\n",
    "        u = uref - Kp * (y - yref) - z\n",
    "        u = min(umax, max(-umax, u))\n",
    "        dx[1] = -Ki / Kp * (z + (u - uref))\n",
    "    elif method == 3:\n",
    "        u = uref - (k + l) * (y - yref) - z\n",
    "        u = min(umax, max(-umax, u))\n",
    "        dx[1] = -l * b * z - l * (l * b + a) * (y - yref) - l * b * (u - uref)\n",
    "\n",
    "    u = min(umax, max(-umax, u))\n",
    "    dx[0] = a * y + b * (u + du(t))\n",
    "    return dx\n",
    "\n",
    "def calcSystem(_):\n",
    "    a = slidera.value\n",
    "    b = sliderb.value\n",
    "    k = sliderk.value\n",
    "    l = sliderl.value\n",
    "    du = sliderdu.value\n",
    "    yr = slideryr.value\n",
    "    umax = sliderumax.value\n",
    "\n",
    "    ur = a / b * yr\n",
    "    deltaU = lambda t: du if t < 2.0 else 0.0\n",
    "\n",
    "    x0 = [0, 0]\n",
    "    res = []\n",
    "    for i in range(4):\n",
    "        res.append(solve_ivp(sysCtrl,\n",
    "                             [tSim[0], tSim[-1]],\n",
    "                             x0,\n",
    "                             t_eval=tSim, \n",
    "                             args=(a, b, yr, ur, deltaU, k, l, umax, i)))\n",
    "\n",
    "    yWoSys.set_data(tSim, res[0].y.T[:, 0])\n",
    "    yWiSys.set_data(tSim, res[1].y.T[:, 0])\n",
    "    yObsSys.set_data(tSim, res[2].y.T[:, 0])\n",
    "    yObsAdaptSys.set_data(tSim, res[3].y.T[:, 0])\n",
    "    iWoSys.set_data(tSim, res[0].y.T[:, 1])\n",
    "    iWiSys.set_data(tSim, res[1].y.T[:, 1])\n",
    "    iObsSys.set_data(tSim, res[2].y.T[:, 1])\n",
    "    iObsAdaptSys.set_data(tSim, res[3].y.T[:, 1])\n",
    "\n",
    "    yMin = np.min([res[0].y.T[:, 0], res[1].y.T[:, 0], res[2].y.T[:, 0], res[3].y.T[:, 0]])\n",
    "    yMax = np.max([res[0].y.T[:, 0], res[1].y.T[:, 0], res[2].y.T[:, 0], res[3].y.T[:, 0]])\n",
    "    iMin = np.min([res[0].y.T[:, 1], res[1].y.T[:, 1], res[2].y.T[:, 1], res[3].y.T[:, 1]])\n",
    "    iMax = np.max([res[0].y.T[:, 1], res[1].y.T[:, 1], res[2].y.T[:, 1], res[3].y.T[:, 1]])\n",
    "\n",
    "    ax1.set_ylim(yMin - np.abs(yMax - yMin) * 0.1, yMax + np.abs(yMax - yMin) * 0.1)\n",
    "    ax2.set_ylim(iMin - np.abs(iMax - iMin) * 0.1, iMax + np.abs(iMax - iMin) * 0.1)\n",
    "\n",
    "    fig.canvas.draw()\n",
    "\n",
    "slidera.observe(calcSystem, names='value')\n",
    "sliderb.observe(calcSystem, names='value')\n",
    "sliderdu.observe(calcSystem, names='value')\n",
    "sliderk.observe(calcSystem, names='value')\n",
    "sliderl.observe(calcSystem, names='value')\n",
    "slideryr.observe(calcSystem, names='value')\n",
    "sliderumax.observe(calcSystem, names='value')\n",
    "\n",
    "calcSystem(_)\n",
    "\n",
    "bModel = VBox([Label(value='Modell'), slidera, sliderb, sliderumax, sliderdu])\n",
    "bModel.layout = make_box_layout()\n",
    "bFeedBack = VBox([Label(value='Regler'), slideryr, sliderk, sliderl])\n",
    "bFeedBack.layout = make_box_layout()\n",
    "\n",
    "controls = HBox([bModel, bFeedBack])\n",
    "VBox([controls, output], layout=Layout(display='flex', flex_flow='column', justify_content='center', align_items='center'))"
   ]
  },
  {
   "cell_type": "code",
   "execution_count": null,
   "id": "7",
   "metadata": {
    "jupyter": {
     "source_hidden": true
    }
   },
   "outputs": [],
   "source": []
  }
 ],
 "metadata": {
  "kernelspec": {
   "display_name": "Python 3 (ipykernel)",
   "language": "python",
   "name": "python3"
  },
  "language_info": {
   "codemirror_mode": {
    "name": "ipython",
    "version": 3
   },
   "file_extension": ".py",
   "mimetype": "text/x-python",
   "name": "python",
   "nbconvert_exporter": "python",
   "pygments_lexer": "ipython3",
   "version": "3.12.9"
  }
 },
 "nbformat": 4,
 "nbformat_minor": 5
}
