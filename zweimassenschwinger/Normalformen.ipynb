{
 "cells": [
  {
   "cell_type": "code",
   "execution_count": null,
   "id": "0",
   "metadata": {},
   "outputs": [],
   "source": [
    "import sympy as sp\n",
    "from IPython.display import display, Latex, Image"
   ]
  },
  {
   "cell_type": "code",
   "execution_count": null,
   "id": "1",
   "metadata": {},
   "outputs": [],
   "source": [
    "s, d, k, m, M = sp.symbols('s d k m M')"
   ]
  },
  {
   "cell_type": "markdown",
   "id": "2",
   "metadata": {},
   "source": [
    "# Normalformen des Zweimassenschwinger"
   ]
  },
  {
   "cell_type": "code",
   "execution_count": null,
   "id": "3",
   "metadata": {},
   "outputs": [],
   "source": [
    "imag = Image(\"../images/twomass.png\", width=300)\n",
    "display(imag)"
   ]
  },
  {
   "cell_type": "markdown",
   "id": "4",
   "metadata": {},
   "source": [
    "**Modellgleichungen**\n",
    "\\begin{align*}\n",
    "    m (\\ddot{y}_1 + \\ddot{y}_2) & = u \\\\\n",
    "    M \\ddot{y}_2 + d \\dot{y}_2 + k y_2 & = -u\n",
    "\\end{align*}\n",
    "mit dem Zustand $x = [x_1,x_2,x_3,x_4]^{\\intercal} = [y_1 + y_2, \\dot{y}_1 + \\dot{y}_2, y_2, \\dot{y}_2]^{\\intercal}$ und der Messung $y = y_1$\n",
    "\\begin{align*}\n",
    "    \\dot{x} & = A x + b u \\\\\n",
    "    y & = c^{\\intercal} x\n",
    "\\end{align*}"
   ]
  },
  {
   "cell_type": "code",
   "execution_count": null,
   "id": "5",
   "metadata": {},
   "outputs": [],
   "source": [
    "A = sp.Matrix([[0, 1, 0, 0], [0, 0, 0, 0], [0, 0, 0, 1], [0, 0, -k/M, -d/M]])\n",
    "b = sp.Matrix([[0], [1/m], [0], [-1/M]])\n",
    "c = sp.Matrix([[1], [0], [-1], [0]])\n",
    "n = A.shape[0]\n",
    "display(Latex(\"$A = {},\\\\quad b = {}, \\\\quad c^{{\\\\intercal}} = {}$\".format(sp.latex(A), sp.latex(b), sp.latex(c.T))))"
   ]
  },
  {
   "cell_type": "markdown",
   "id": "6",
   "metadata": {},
   "source": [
    "**Übertragungsfunktion**"
   ]
  },
  {
   "cell_type": "code",
   "execution_count": null,
   "id": "7",
   "metadata": {},
   "outputs": [],
   "source": [
    "G = sp.simplify(c.T * (s * sp.eye(4) - A) ** -1 * b)[0]\n",
    "display(Latex(\"$G(s) = {}$\".format(sp.latex(G))))"
   ]
  },
  {
   "cell_type": "code",
   "execution_count": null,
   "id": "8",
   "metadata": {},
   "outputs": [],
   "source": [
    "(Zs, Ns) = sp.fraction(G)\n",
    "rho = sp.degree(Ns, gen=s) - sp.degree(Zs, gen=s)"
   ]
  },
  {
   "cell_type": "code",
   "execution_count": null,
   "id": "9",
   "metadata": {},
   "outputs": [],
   "source": [
    "display(Latex(\"relativer Grad: $\\\\varrho$ = grad$N(s)$ - grad$Z(s)$ $= {}$\".format(sp.latex(rho))))"
   ]
  },
  {
   "cell_type": "markdown",
   "id": "10",
   "metadata": {},
   "source": [
    "## Beobachternormalform (BNF)\n",
    "\n",
    "\\begin{align*}\n",
    "    \\dot{x} & = \\begin{bmatrix} \n",
    "        0 & 0 & \\ldots & 0 & -a_{0}\\\\\n",
    "        1 & 0 & \\ddots & \\vdots & -a_{1} \\\\\n",
    "        0 & 1 & \\ddots & \\vdots & \\vdots\\\\\n",
    "        \\vdots & \\ddots & \\ddots & 0 & -a_{n-2} \\\\\n",
    "        0 & \\ldots & \\ldots & 1 & -a_{n-1} \n",
    "    \\end{bmatrix} x + \\begin{bmatrix} b_0 \\\\ b_1 \\\\ \\vdots \\\\ b_{n-2} \\\\ b_{n-1} \\end{bmatrix} u\\\\\n",
    "    y & = \\begin{bmatrix}\n",
    "        0 & 0 & \\ldots & 0 & 1\n",
    "    \\end{bmatrix} x\n",
    "\\end{align*}"
   ]
  },
  {
   "cell_type": "markdown",
   "id": "11",
   "metadata": {},
   "source": [
    "**Beobachtbarkeitsmatrix**"
   ]
  },
  {
   "cell_type": "code",
   "execution_count": null,
   "id": "12",
   "metadata": {},
   "outputs": [],
   "source": [
    "O = c.T\n",
    "for i in range(1, n):\n",
    "    O = O.col_join(c.T * A ** i)\n",
    "display(Latex(\"$O = {}$\".format(sp.latex(O))))"
   ]
  },
  {
   "cell_type": "code",
   "execution_count": null,
   "id": "13",
   "metadata": {},
   "outputs": [],
   "source": [
    "t1O = O ** -1 @ sp.eye(n, n)[:,-1]\n",
    "TO =  t1O\n",
    "for i in range(1, n):\n",
    "    TO = sp.simplify(TO.row_join(A ** i * t1O))\n",
    "display(Latex(\"$T_{{\\\\text{{BNF}}}} = {}$\".format(sp.latex(TO))))"
   ]
  },
  {
   "cell_type": "code",
   "execution_count": null,
   "id": "14",
   "metadata": {},
   "outputs": [],
   "source": [
    "ABNF= sp.simplify(TO ** -1 * A * TO)\n",
    "bBNF = sp.simplify(TO ** -1 * b)\n",
    "cBNF = (c.T * TO).T\n",
    "display(Latex(\"$A_{{\\\\text{{BNF}}}} = {},\\\\quad b_{{\\\\text{{BNF}}}} = {}, \\\\quad c^{{\\\\intercal}}_{{\\\\text{{BNF}}}} = {}$\".format(sp.latex(ABNF), sp.latex(bBNF), sp.latex(cBNF.T))))"
   ]
  },
  {
   "cell_type": "markdown",
   "id": "15",
   "metadata": {},
   "source": [
    "## Regelungsnormalform (RNF)\n",
    "\n",
    "\\begin{align*}\n",
    "    \\dot{x} & = \\begin{bmatrix} \n",
    "        0 & 1 & 0 & \\ldots & 0\\\\\n",
    "        0 & 0 & 1 & \\ddots & \\vdots\\\\\n",
    "        \\vdots & \\ddots & \\ddots & \\ddots & \\vdots \\\\\n",
    "        0 & \\ldots & \\ldots & 0 & 1\\\\\n",
    "        -a_0 & -a_1 & \\ldots & -a_{n-2} & -a_{n-1}\n",
    "    \\end{bmatrix} x + \\begin{bmatrix} 0 \\\\ \\vdots \\\\ \\vdots \\\\ 0 \\\\ 1 \\end{bmatrix} u\\\\\n",
    "    y & = \\begin{bmatrix}\n",
    "        b_0 & b_1 & \\ldots & b_{n-2} & b_{n-1}\n",
    "    \\end{bmatrix} x\n",
    "\\end{align*}"
   ]
  },
  {
   "cell_type": "markdown",
   "id": "16",
   "metadata": {},
   "source": [
    "**Steuerbarkeitsmatrix**"
   ]
  },
  {
   "cell_type": "code",
   "execution_count": null,
   "id": "17",
   "metadata": {},
   "outputs": [],
   "source": [
    "S = b\n",
    "for i in range(1, n):\n",
    "    S = S.row_join(A ** i * b)\n",
    "display(Latex(\"$S = {}$\".format(sp.latex(S))))"
   ]
  },
  {
   "cell_type": "code",
   "execution_count": null,
   "id": "18",
   "metadata": {},
   "outputs": [],
   "source": [
    "t1S =  sp.eye(n, n)[-1,:] * S ** -1\n",
    "TS =  t1S\n",
    "for i in range(1, n):\n",
    "    TS = sp.simplify(TS.col_join(t1S * A ** i))\n",
    "display(Latex(\"$T_{{\\\\text{{RNF}}}} = {}$\".format(sp.latex(TS))))"
   ]
  },
  {
   "cell_type": "code",
   "execution_count": null,
   "id": "19",
   "metadata": {},
   "outputs": [],
   "source": [
    "ARNF= sp.simplify(TS * A * TS ** -1)\n",
    "bRNF = TS * b\n",
    "cRNF = sp.simplify(c.T * TS ** -1).T\n",
    "display(Latex(\"$A_{{\\\\text{{RNF}}}} = {},\\\\quad b_{{\\\\text{{RNF}}}} = {}, \\\\quad c^{{\\\\intercal}}_{{\\\\text{{RNF}}}} = {}$\".format(sp.latex(ARNF), sp.latex(bRNF), sp.latex(cRNF.T))))"
   ]
  },
  {
   "cell_type": "markdown",
   "id": "20",
   "metadata": {},
   "source": [
    "## Eingangs-Ausgangs-Normalform (EANF)\n",
    "\n",
    "\\begin{align*}\n",
    "    \\dot{x} & = \\begin{bmatrix} \n",
    "        0 & 1 & 0 & \\vdots  & 0 & 0 & 0 & 0 & \\ldots & 0\\\\\n",
    "        0 & 0 & 1 & \\ddots  & 0 & 0 & 0 & 0 & \\ldots & 0\\\\\n",
    "        \\vdots & \\vdots & \\vdots & \\ddots & \\vdots & \\vdots & \\vdots & \\vdots & \\ddots & \\vdots \\\\\n",
    "        0 & 0 & 0 & \\ldots & 1 & 0 & 0 & 0 \\ldots & 0 \\\\\n",
    "        -\\alpha_0 & -\\alpha_1 & -\\alpha_2 & \\ldots & -\\alpha_{\\varrho-1} & -\\alpha_{\\varrho} & - \\alpha_{\\varrho + 1} & - \\alpha_{\\varrho+2} & \\ldots & -\\alpha_{n-1} \\\\\n",
    "        0 & 0 & 0 & \\ldots & 0 & 0 & 1 & 0 & \\ldots & 0\\\\\n",
    "        0 & 0 & 0 & \\ldots & 0 & 0 & 0 & 1 & \\ldots & 0\\\\\n",
    "        \\vdots & \\vdots & \\vdots & \\ddots & \\vdots & \\vdots & \\vdots & \\vdots & \\ddots & \\vdots \\\\\n",
    "        0 & 0 & 0 & \\ldots & 0 & 0 & 0 & 0 & \\ldots & 1\\\\\n",
    "        1 & 0 & 0 & \\ldots & 0 & -b_0 & -b_1 & -b_2 & \\ldots & -b_{q-1}\\\\\n",
    "    \\end{bmatrix} x + \\begin{bmatrix} 0 \\\\ 0\\\\ \\vdots \\\\ 0 \\\\ k \\\\ 0 \\\\ 0\\\\ \\vdots \\\\ 0 \\\\ 0 \\end{bmatrix} u\\\\\n",
    "    y & = \\begin{bmatrix}\n",
    "        1 & 0 & 0 & \\ldots & 0 & 0 & 0 & 0 & \\ldots & 0\n",
    "    \\end{bmatrix} x\n",
    "\\end{align*}"
   ]
  },
  {
   "cell_type": "code",
   "execution_count": null,
   "id": "21",
   "metadata": {},
   "outputs": [],
   "source": [
    "k = cRNF[2]\n",
    "TEA =  c.T\n",
    "for i in range(1, rho):\n",
    "    TEA = sp.simplify(TEA.col_join(c.T * A ** i))\n",
    "for i in range(0, n - rho):\n",
    "    TEA = sp.simplify(TEA.col_join(TS[i, :] * k))\n",
    "display(Latex(\"$T_{{\\\\text{{EANF}}}} = {}$\".format(sp.latex(TEA))))"
   ]
  },
  {
   "cell_type": "code",
   "execution_count": null,
   "id": "22",
   "metadata": {},
   "outputs": [],
   "source": [
    "AEANF = sp.simplify(sp.expand(TEA * A * TEA ** -1))\n",
    "bEANF = sp.simplify(TEA * b)\n",
    "cEANF = sp.simplify(c.T * TEA ** -1)\n",
    "display(Latex(\"$A_{{\\\\text{{EANF}}}} = {},\\\\quad b_{{\\\\text{{EANF}}}} = {}, \\\\quad c^{{\\\\intercal}}_{{\\\\text{{EANF}}}} = {}$\".format(sp.latex(AEANF), sp.latex(bEANF), sp.latex(cEANF))))"
   ]
  }
 ],
 "metadata": {
  "kernelspec": {
   "display_name": "Python 3 (ipykernel)",
   "language": "python",
   "name": "python3"
  },
  "language_info": {
   "codemirror_mode": {
    "name": "ipython",
    "version": 3
   },
   "file_extension": ".py",
   "mimetype": "text/x-python",
   "name": "python",
   "nbconvert_exporter": "python",
   "pygments_lexer": "ipython3",
   "version": "3.12.9"
  }
 },
 "nbformat": 4,
 "nbformat_minor": 5
}
