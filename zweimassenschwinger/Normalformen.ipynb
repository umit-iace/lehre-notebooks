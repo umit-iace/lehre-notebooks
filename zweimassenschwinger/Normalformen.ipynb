{
 "cells": [
  {
   "cell_type": "code",
   "execution_count": null,
   "id": "f1ad541f-70fb-4b37-9597-f7f52144a88e",
   "metadata": {},
   "outputs": [],
   "source": [
    "import ipywidgets as widgets\n",
    "from ipywidgets import HBox, VBox, jslink, Box, Layout\n",
    "import sympy as sp\n",
    "from IPython.display import display, Latex, Markdown, Image, Math"
   ]
  },
  {
   "cell_type": "code",
   "execution_count": null,
   "id": "f711a29e-f827-4954-8ae6-f18b991d6741",
   "metadata": {},
   "outputs": [],
   "source": [
    "s, d, k, m, M = sp.symbols('s d k m M')"
   ]
  },
  {
   "cell_type": "markdown",
   "id": "5bcb4809-7e3c-4ae2-bbba-3886e12ef668",
   "metadata": {},
   "source": [
    "# Normalformen des Zweimassenschwinger"
   ]
  },
  {
   "cell_type": "code",
   "execution_count": null,
   "id": "631cabb7-7e00-4097-8cef-0b97e750f330",
   "metadata": {},
   "outputs": [],
   "source": [
    "imag = Image(\"../images/twomass.png\", width=800)\n",
    "display(imag)"
   ]
  },
  {
   "cell_type": "markdown",
   "id": "386f3840-2170-4771-abe9-4ec39c79887a",
   "metadata": {},
   "source": [
    "Systemgleichungen\n",
    "\\begin{align*}\n",
    "    m (\\ddot{y}_1 + \\ddot{y}_2) & = u \\\\\n",
    "    M \\ddot{y}_2 + d \\dot{y}_2 + k y_2 & = -u\n",
    "\\end{align*}\n",
    "mit dem Zustand $x = (x_1,x_2,x_3,x_4)^{\\intercal} = (y_1 + y_2, \\dot{y}_1 + \\dot{y}_2, y_2, \\dot{y}_2)^{\\intercal}$ und der Messung $y = y_1$\n",
    "\\begin{align*}\n",
    "    \\dot{x} & = A x + b u \\\\\n",
    "    y & = c^{\\intercal} x\n",
    "\\end{align*}"
   ]
  },
  {
   "cell_type": "code",
   "execution_count": null,
   "id": "e15bc3fa-fc1b-4d30-8e04-bc93262bbab5",
   "metadata": {},
   "outputs": [],
   "source": [
    "A = sp.Matrix([[0, 1, 0, 0], [0, 0, 0, 0], [0, 0, 0, 1], [0, 0, -k/M, -d/M]])\n",
    "b = sp.Matrix([[0], [1/m], [0], [-1/M]])\n",
    "c = sp.Matrix([[1], [0], [-1], [0]])\n",
    "n = A.shape[0]\n",
    "display(Latex(\"$A = {},\\\\quad b = {}, \\\\quad c^{{\\\\intercal}} = {}$\".format(sp.latex(A), sp.latex(b), sp.latex(c.T))))"
   ]
  },
  {
   "cell_type": "markdown",
   "id": "1da1e74e-a1c8-4916-bf40-5529d8a2cc97",
   "metadata": {},
   "source": [
    "Übertragungsfunktion"
   ]
  },
  {
   "cell_type": "code",
   "execution_count": null,
   "id": "6370f5a1-6c2e-4708-a252-fbd6cf9ce491",
   "metadata": {},
   "outputs": [],
   "source": [
    "G = sp.simplify(c.T * (s * sp.eye(4) - A) ** -1 * b)[0]\n",
    "display(Latex(\"$G(s) = {}$\".format(sp.latex(G))))"
   ]
  },
  {
   "cell_type": "markdown",
   "id": "800196bc-cca2-4d1e-a108-0f46ff2dee9c",
   "metadata": {},
   "source": [
    "## Beobachternormalform (BNF)\n",
    "\n",
    "\\begin{align*}\n",
    "    \\dot{x} & = \\begin{pmatrix} \n",
    "        0 & 1 & 0 & \\ldots & 0\\\\\n",
    "        0 & 0 & 1 & \\ddots & \\vdots\\\\\n",
    "        \\vdots & \\ddots & \\ddots & \\ddots & \\vdots \\\\\n",
    "        0 & \\ldots & \\ldots & 0 & 1\\\\\n",
    "        -a_0 & -a_1 & \\ldots & -a_{n-2} & -a_{n-1}\n",
    "    \\end{pmatrix} x + \\begin{pmatrix} 0 \\\\ \\vdots \\\\ \\vdots \\\\ 0 \\\\ 1 \\end{pmatrix} u\\\\\n",
    "    y & = \\begin{pmatrix}\n",
    "        b_0 & b_1 & \\ldots & b_{n-2} & b_{n-1}\n",
    "    \\end{pmatrix} x\n",
    "\\end{align*}"
   ]
  },
  {
   "cell_type": "markdown",
   "id": "2b6e1ec7-261b-41da-be3d-04ae434dee06",
   "metadata": {},
   "source": [
    "## Regelungsnormalform (RNF)\n",
    "\n",
    "\\begin{align*}\n",
    "    \\dot{x} & = \\begin{pmatrix} \n",
    "        0 & 0 & \\ldots & 0 & -a_{0}\\\\\n",
    "        1 & 0 & \\ddots & \\vdots & -a_{1} \\\\\n",
    "        0 & 1 & \\ddots & \\vdots & \\vdots\\\\\n",
    "        \\vdots & \\ddots & \\ddots & 0 & -a_{n-2} \\\\\n",
    "        0 & \\ldots & \\ldots & 1 & -a_{n-1} \n",
    "    \\end{pmatrix} x + \\begin{pmatrix} b_0 \\\\ b_1 \\\\ \\vdots \\\\ b_{n-2} \\\\ b_{n-1} \\end{pmatrix} u\\\\\n",
    "    y & = \\begin{pmatrix}\n",
    "        0 & 0 & \\ldots & 0 & 1\n",
    "    \\end{pmatrix} x\n",
    "\\end{align*}"
   ]
  },
  {
   "cell_type": "markdown",
   "id": "8bbbfb43-3523-4852-a7ce-5cddc206dbbf",
   "metadata": {},
   "source": [
    "## Eingangs-Ausgangs-Normalform (EANF)\n",
    "\n",
    "\\begin{align*}\n",
    "    \\dot{x} & = \\begin{pmatrix} \n",
    "        0 & 1 & 0 & \\vdots \\\\\n",
    "        0 & 0 & 1 & \\ddots \\\\\n",
    "    \\end{pmatrix} x + \\begin{pmatrix} 0 \\\\ \\vdots \\\\ 0 \\\\ 1 \\end{pmatrix} u\\\\\n",
    "    y & = \\begin{pmatrix}\n",
    "        b_0 & b_1 & \\vdots & b_{n-1}\n",
    "    \\end{pmatrix}\n",
    "\\end{align*}"
   ]
  },
  {
   "cell_type": "code",
   "execution_count": null,
   "id": "851e7f08-0ad1-4355-ba00-415effa17e95",
   "metadata": {},
   "outputs": [],
   "source": []
  }
 ],
 "metadata": {
  "kernelspec": {
   "display_name": "Python 3 (ipykernel)",
   "language": "python",
   "name": "python3"
  },
  "language_info": {
   "codemirror_mode": {
    "name": "ipython",
    "version": 3
   },
   "file_extension": ".py",
   "mimetype": "text/x-python",
   "name": "python",
   "nbconvert_exporter": "python",
   "pygments_lexer": "ipython3",
   "version": "3.12.2"
  }
 },
 "nbformat": 4,
 "nbformat_minor": 5
}
