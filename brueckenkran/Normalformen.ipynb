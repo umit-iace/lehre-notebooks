{
 "cells": [
  {
   "cell_type": "code",
   "execution_count": null,
   "id": "f1ad541f-70fb-4b37-9597-f7f52144a88e",
   "metadata": {},
   "outputs": [],
   "source": [
    "import sympy as sp\n",
    "from IPython.display import display, Latex, Image"
   ]
  },
  {
   "cell_type": "code",
   "execution_count": null,
   "id": "f711a29e-f827-4954-8ae6-f18b991d6741",
   "metadata": {},
   "outputs": [],
   "source": [
    "s, l, g, m, M = sp.symbols('s l g m M')"
   ]
  },
  {
   "cell_type": "markdown",
   "id": "5bcb4809-7e3c-4ae2-bbba-3886e12ef668",
   "metadata": {},
   "source": [
    "# Normalformen des Zweimassenschwinger"
   ]
  },
  {
   "cell_type": "code",
   "execution_count": null,
   "id": "631cabb7-7e00-4097-8cef-0b97e750f330",
   "metadata": {},
   "outputs": [],
   "source": [
    "imag = Image(\"../images/kran.png\", width=300)\n",
    "display(imag)"
   ]
  },
  {
   "cell_type": "markdown",
   "id": "386f3840-2170-4771-abe9-4ec39c79887a",
   "metadata": {},
   "source": [
    "**Modellgleichungen**\n",
    "\\begin{align*}\n",
    "    M \\ddot{D} & = u + m g \\theta \\\\\n",
    "    m \\ddot{y} & = -m g \\theta\n",
    "\\end{align*}\n",
    "mit dem Zustand $x = (x_1,x_2,x_3,x_4)^{\\intercal} = (D, \\dot{D}, \\theta, \\dot{\\theta})^{\\intercal}$ und der Messung $y = D + l \\theta$\n",
    "\\begin{align*}\n",
    "    \\dot{x} & = A x + b u \\\\\n",
    "    y & = c^{\\intercal} x\n",
    "\\end{align*}"
   ]
  },
  {
   "cell_type": "code",
   "execution_count": null,
   "id": "e15bc3fa-fc1b-4d30-8e04-bc93262bbab5",
   "metadata": {},
   "outputs": [],
   "source": [
    "A = sp.Matrix([[0, 1, 0, 0], [0, 0, m / M * g, 0], [0, 0, 0, 1], [0, 0, -g / l - m * g / (M * l), 0]])\n",
    "b = sp.Matrix([[0], [1/M], [0], [-1/ (M * l)]])\n",
    "c = sp.Matrix([[1], [0], [l], [0]])\n",
    "n = A.shape[0]\n",
    "display(Latex(\"$A = {},\\\\quad b = {}, \\\\quad c^{{\\\\intercal}} = {}$\".format(sp.latex(A), sp.latex(b), sp.latex(c.T))))"
   ]
  },
  {
   "cell_type": "markdown",
   "id": "1da1e74e-a1c8-4916-bf40-5529d8a2cc97",
   "metadata": {},
   "source": [
    "**Übertragungsfunktion**"
   ]
  },
  {
   "cell_type": "code",
   "execution_count": null,
   "id": "6370f5a1-6c2e-4708-a252-fbd6cf9ce491",
   "metadata": {},
   "outputs": [],
   "source": [
    "G = sp.simplify(c.T * (s * sp.eye(4) - A) ** -1 * b)[0]\n",
    "display(Latex(\"$G(s) = {}$\".format(sp.latex(G))))"
   ]
  },
  {
   "cell_type": "code",
   "execution_count": null,
   "id": "fa39952a-2347-4bfe-b9b3-f56b3232d745",
   "metadata": {},
   "outputs": [],
   "source": [
    "(Zs, Ns) = sp.fraction(G)\n",
    "rho = sp.degree(Ns, gen=s) - sp.degree(Zs, gen=s)"
   ]
  },
  {
   "cell_type": "code",
   "execution_count": null,
   "id": "b61d8323-ba73-48a4-a7b5-965c6708d768",
   "metadata": {},
   "outputs": [],
   "source": [
    "display(Latex(\"relativer Grad: $\\\\varrho$ = grad$N(s)$ - grad$Z(s)$ $= {}$\".format(sp.latex(rho))))"
   ]
  },
  {
   "cell_type": "markdown",
   "id": "800196bc-cca2-4d1e-a108-0f46ff2dee9c",
   "metadata": {},
   "source": [
    "## Beobachternormalform (BNF)\n",
    "\n",
    "\\begin{align*}\n",
    "    \\dot{x} & = \\begin{pmatrix} \n",
    "        0 & 0 & \\ldots & 0 & -a_{0}\\\\\n",
    "        1 & 0 & \\ddots & \\vdots & -a_{1} \\\\\n",
    "        0 & 1 & \\ddots & \\vdots & \\vdots\\\\\n",
    "        \\vdots & \\ddots & \\ddots & 0 & -a_{n-2} \\\\\n",
    "        0 & \\ldots & \\ldots & 1 & -a_{n-1} \n",
    "    \\end{pmatrix} x + \\begin{pmatrix} b_0 \\\\ b_1 \\\\ \\vdots \\\\ b_{n-2} \\\\ b_{n-1} \\end{pmatrix} u\\\\\n",
    "    y & = \\begin{pmatrix}\n",
    "        0 & 0 & \\ldots & 0 & 1\n",
    "    \\end{pmatrix} x\n",
    "\\end{align*}"
   ]
  },
  {
   "cell_type": "markdown",
   "id": "dfca6034-2cf2-46bd-97dd-b7adafc9295d",
   "metadata": {},
   "source": [
    "**Beobachtbarkeitsmatrix**"
   ]
  },
  {
   "cell_type": "code",
   "execution_count": null,
   "id": "3bf2e006-7b4b-4c14-995c-18d02960cc18",
   "metadata": {},
   "outputs": [],
   "source": [
    "O = c.T\n",
    "for i in range(1, n):\n",
    "    O = O.col_join(c.T * A ** i)\n",
    "display(Latex(\"$O = {}$\".format(sp.latex(O))))"
   ]
  },
  {
   "cell_type": "code",
   "execution_count": null,
   "id": "c3de9b91-4abd-4d60-9fd5-b0c998d28278",
   "metadata": {},
   "outputs": [],
   "source": [
    "t1O = O ** -1 @ sp.eye(n, n)[:,-1]\n",
    "TO =  t1O\n",
    "for i in range(1, n):\n",
    "    TO = sp.simplify(TO.row_join(A ** i * t1O))\n",
    "display(Latex(\"$T_{{\\\\text{{BNF}}}} = {}$\".format(sp.latex(TO))))"
   ]
  },
  {
   "cell_type": "code",
   "execution_count": null,
   "id": "e3133b3d-f6bc-4ad6-a98a-0a9beb4f7b52",
   "metadata": {},
   "outputs": [],
   "source": [
    "ABNF= sp.simplify(TO ** -1 * A * TO)\n",
    "bBNF = sp.simplify(TO ** -1 * b)\n",
    "cBNF = (c.T * TO).T\n",
    "display(Latex(\"$A_{{\\\\text{{BNF}}}} = {},\\\\quad b_{{\\\\text{{BNF}}}} = {}, \\\\quad c^{{\\\\intercal}}_{{\\\\text{{BNF}}}} = {}$\".format(sp.latex(ABNF), sp.latex(bBNF), sp.latex(cBNF.T))))"
   ]
  },
  {
   "cell_type": "markdown",
   "id": "2b6e1ec7-261b-41da-be3d-04ae434dee06",
   "metadata": {},
   "source": [
    "## Regelungsnormalform (RNF)\n",
    "\n",
    "\\begin{align*}\n",
    "    \\dot{x} & = \\begin{pmatrix} \n",
    "        0 & 1 & 0 & \\ldots & 0\\\\\n",
    "        0 & 0 & 1 & \\ddots & \\vdots\\\\\n",
    "        \\vdots & \\ddots & \\ddots & \\ddots & \\vdots \\\\\n",
    "        0 & \\ldots & \\ldots & 0 & 1\\\\\n",
    "        -a_0 & -a_1 & \\ldots & -a_{n-2} & -a_{n-1}\n",
    "    \\end{pmatrix} x + \\begin{pmatrix} 0 \\\\ \\vdots \\\\ \\vdots \\\\ 0 \\\\ 1 \\end{pmatrix} u\\\\\n",
    "    y & = \\begin{pmatrix}\n",
    "        b_0 & b_1 & \\ldots & b_{n-2} & b_{n-1}\n",
    "    \\end{pmatrix} x\n",
    "\\end{align*}"
   ]
  },
  {
   "cell_type": "markdown",
   "id": "d90e58fb-d1c8-416c-bdde-18b648f6e605",
   "metadata": {},
   "source": [
    "**Steuerbarkeitsmatrix**"
   ]
  },
  {
   "cell_type": "code",
   "execution_count": null,
   "id": "005135c8-a3f2-4832-8bea-511135961a38",
   "metadata": {},
   "outputs": [],
   "source": [
    "S = b\n",
    "for i in range(1, n):\n",
    "    S = S.row_join(A ** i * b)\n",
    "display(Latex(\"$S = {}$\".format(sp.latex(S))))"
   ]
  },
  {
   "cell_type": "code",
   "execution_count": null,
   "id": "94c4f7e7-18c6-4b67-bb65-4a2b6571aa0e",
   "metadata": {},
   "outputs": [],
   "source": [
    "t1S =  sp.eye(n, n)[-1,:] * S ** -1\n",
    "TS =  t1S\n",
    "for i in range(1, n):\n",
    "    TS = sp.simplify(TS.col_join(t1S * A ** i))\n",
    "display(Latex(\"$T_{{\\\\text{{RNF}}}} = {}$\".format(sp.latex(TS))))"
   ]
  },
  {
   "cell_type": "code",
   "execution_count": null,
   "id": "ef60ac0e-3896-4ba4-a481-c97bc1e38b13",
   "metadata": {},
   "outputs": [],
   "source": [
    "ARNF= sp.simplify(TS * A * TS ** -1)\n",
    "bRNF = TS * b\n",
    "cRNF = sp.simplify(c.T * TS ** -1).T\n",
    "display(Latex(\"$A_{{\\\\text{{RNF}}}} = {},\\\\quad b_{{\\\\text{{RNF}}}} = {}, \\\\quad c^{{\\\\intercal}}_{{\\\\text{{RNF}}}} = {}$\".format(sp.latex(ARNF), sp.latex(bRNF), sp.latex(cRNF.T))))"
   ]
  },
  {
   "cell_type": "markdown",
   "id": "8bbbfb43-3523-4852-a7ce-5cddc206dbbf",
   "metadata": {},
   "source": [
    "## Eingangs-Ausgangs-Normalform (EANF)\n",
    "\n",
    "\\begin{align*}\n",
    "    \\dot{x} & = \\begin{pmatrix} \n",
    "        0 & 1 & 0 & \\vdots  & 0 & 0 & 0 & 0 & \\ldots & 0\\\\\n",
    "        0 & 0 & 1 & \\ddots  & 0 & 0 & 0 & 0 & \\ldots & 0\\\\\n",
    "        \\vdots & \\vdots & \\vdots & \\ddots & \\vdots & \\vdots & \\vdots & \\vdots & \\ddots & \\vdots \\\\\n",
    "        0 & 0 & 0 & \\ldots & 1 & 0 & 0 & 0 \\ldots & 0 \\\\\n",
    "        -\\alpha_0 & -\\alpha_1 & -\\alpha_2 & \\ldots & -\\alpha_{\\varrho-1} & -\\alpha_{\\varrho} & - \\alpha_{\\varrho + 1} & - \\alpha_{\\varrho+2} & \\ldots & -\\alpha_{n-1} \\\\\n",
    "        0 & 0 & 0 & \\ldots & 0 & 0 & 1 & 0 & \\ldots & 0\\\\\n",
    "        0 & 0 & 0 & \\ldots & 0 & 0 & 0 & 1 & \\ldots & 0\\\\\n",
    "        \\vdots & \\vdots & \\vdots & \\ddots & \\vdots & \\vdots & \\vdots & \\vdots & \\ddots & \\vdots \\\\\n",
    "        0 & 0 & 0 & \\ldots & 0 & 0 & 0 & 0 & \\ldots & 1\\\\\n",
    "        1 & 0 & 0 & \\ldots & 0 & -b_0 & -b_1 & -b_2 & \\ldots & -b_{q-1}\\\\\n",
    "    \\end{pmatrix} x + \\begin{pmatrix} 0 \\\\ 0\\\\ \\vdots \\\\ 0 \\\\ k \\\\ 0 \\\\ 0\\\\ \\vdots \\\\ 0 \\\\ 0 \\end{pmatrix} u\\\\\n",
    "    y & = \\begin{pmatrix}\n",
    "        1 & 0 & 0 & \\ldots & 0 & 0 & 0 & 0 & \\ldots & 0\n",
    "    \\end{pmatrix} x\n",
    "\\end{align*}"
   ]
  },
  {
   "cell_type": "code",
   "execution_count": null,
   "id": "851e7f08-0ad1-4355-ba00-415effa17e95",
   "metadata": {},
   "outputs": [],
   "source": [
    "k = cRNF[2]\n",
    "TEA =  c.T\n",
    "for i in range(1, rho):\n",
    "    TEA = sp.simplify(TEA.col_join(c.T * A ** i))\n",
    "for i in range(0, n - rho):\n",
    "    TEA = sp.simplify(TEA.col_join(TS[i, :] * k))\n",
    "display(Latex(\"$T_{{\\\\text{{EANF}}}} = {}$\".format(sp.latex(TEA))))"
   ]
  },
  {
   "cell_type": "code",
   "execution_count": null,
   "id": "94c96687-7215-4787-91dd-343108258a3c",
   "metadata": {},
   "outputs": [],
   "source": [
    "AEANF= sp.simplify(sp.expand(TEA * A * TEA ** -1))\n",
    "bEANF = sp.simplify(TEA * b)\n",
    "cEANF = sp.simplify(c.T * TEA ** -1)\n",
    "display(Latex(\"$A_{{\\\\text{{EANF}}}} = {},\\\\quad b_{{\\\\text{{EANF}}}} = {}, \\\\quad c^{{\\\\intercal}}_{{\\\\text{{EANF}}}} = {}$\".format(sp.latex(AEANF), sp.latex(bEANF), sp.latex(cEANF.T))))"
   ]
  },
  {
   "cell_type": "code",
   "execution_count": null,
   "id": "39c12cef-c90d-4724-b145-723cdae0b8d4",
   "metadata": {},
   "outputs": [],
   "source": []
  }
 ],
 "metadata": {
  "kernelspec": {
   "display_name": "Python 3 (ipykernel)",
   "language": "python",
   "name": "python3"
  },
  "language_info": {
   "codemirror_mode": {
    "name": "ipython",
    "version": 3
   },
   "file_extension": ".py",
   "mimetype": "text/x-python",
   "name": "python",
   "nbconvert_exporter": "python",
   "pygments_lexer": "ipython3",
   "version": "3.12.2"
  }
 },
 "nbformat": 4,
 "nbformat_minor": 5
}
